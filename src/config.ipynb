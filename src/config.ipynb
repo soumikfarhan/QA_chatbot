{
 "cells": [
  {
   "cell_type": "code",
   "execution_count": null,
   "metadata": {},
   "outputs": [],
   "source": [
    "# import necessary packages\n",
    "import os\n",
    "from langchain.document_loaders import PyPDFLoader\n",
    "from langchain.vectorstores import FAISS\n",
    "from langchain_community.embeddings import HuggingFaceEmbeddings\n",
    "from langchain.text_splitter import RecursiveCharacterTextSplitter\n",
    "from langchain_community.document_loaders import UnstructuredHTMLLoader\n",
    "from langchain_community.document_loaders import BSHTMLLoader"
   ]
  },
  {
   "cell_type": "code",
   "execution_count": null,
   "metadata": {},
   "outputs": [],
   "source": [
    "def find_files(directory,extension):\n",
    "    file_location = []\n",
    "    for root, dirs, files in os.walk(directory):\n",
    "        for file in files:\n",
    "            if file.endswith(extension):\n",
    "                file_location.append(os.path.join(root, file))\n",
    "    return file_location"
   ]
  },
  {
   "cell_type": "code",
   "execution_count": null,
   "metadata": {},
   "outputs": [],
   "source": [
    "def pdf_chunks(all_pdf_path,preloaded_text_splitter):\n",
    "    \n",
    "    all_texts = []\n",
    "    \n",
    "    for pdf_path in all_pdf_path:\n",
    "    \n",
    "    \n",
    "        loader = PyPDFLoader(file_path=pdf_path)\n",
    "        doc = loader.load()\n",
    "        text = preloaded_text_splitter.split_documents(documents = doc)\n",
    "        \n",
    "        all_texts.extend(text)\n",
    "    \n",
    "    return all_texts"
   ]
  },
  {
   "cell_type": "code",
   "execution_count": null,
   "metadata": {},
   "outputs": [],
   "source": [
    "def html_chunks(all_html_path):\n",
    "    \n",
    "    all_html = []\n",
    "    \n",
    "    for html_path in all_html_path:        \n",
    "        loader_bs4 = BSHTMLLoader(html_path)\n",
    "        data = loader_bs4.load()\n",
    "        all_html.extend(data)\n",
    "    return all_html"
   ]
  }
 ],
 "metadata": {
  "kernelspec": {
   "display_name": "rag_benchsci",
   "language": "python",
   "name": "python3"
  },
  "language_info": {
   "name": "python",
   "version": "3.12.2"
  }
 },
 "nbformat": 4,
 "nbformat_minor": 2
}
