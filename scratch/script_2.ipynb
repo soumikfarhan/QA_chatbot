{
 "cells": [
  {
   "cell_type": "code",
   "execution_count": 7,
   "metadata": {},
   "outputs": [],
   "source": [
    "import os\n",
    "from langchain.document_loaders import PyPDFLoader\n",
    "from langchain.text_splitter import RecursiveCharacterTextSplitter\n",
    "from langchain.vectorstores import FAISS\n",
    "from langchain.embeddings import HuggingFaceEmbeddings\n",
    "\n",
    "\n",
    "\n"
   ]
  },
  {
   "cell_type": "code",
   "execution_count": 8,
   "metadata": {},
   "outputs": [],
   "source": [
    "# Function to extract metadata from PDF\n",
    "def extract_metadata(pdf_path):\n",
    "    loader = PyPDFLoader(file_path=pdf_path)\n",
    "    doc = loader.load()\n",
    "    metadata = doc.metadata\n",
    "    return metadata\n",
    "\n"
   ]
  },
  {
   "cell_type": "code",
   "execution_count": 9,
   "metadata": {},
   "outputs": [],
   "source": [
    "# Function to format metadata for retrieval\n",
    "def format_metadata(metadata):\n",
    "    # Example: concatenating title and author\n",
    "    formatted_metadata = f\"{metadata.title} by {metadata.author}\"\n",
    "    return formatted_metadata\n",
    "\n"
   ]
  },
  {
   "cell_type": "code",
   "execution_count": 10,
   "metadata": {},
   "outputs": [],
   "source": [
    "# Function to split documents with metadata\n",
    "def split_documents_with_metadata(documents, metadata):\n",
    "    # Combine text and metadata\n",
    "    text_with_metadata = [f\"{metadata}\\n{text}\" for text in documents]\n",
    "    return text_with_metadata\n",
    "\n"
   ]
  },
  {
   "cell_type": "code",
   "execution_count": 11,
   "metadata": {},
   "outputs": [
    {
     "ename": "AttributeError",
     "evalue": "'list' object has no attribute 'metadata'",
     "output_type": "error",
     "traceback": [
      "\u001b[0;31m---------------------------------------------------------------------------\u001b[0m",
      "\u001b[0;31mAttributeError\u001b[0m                            Traceback (most recent call last)",
      "Cell \u001b[0;32mIn[11], line 3\u001b[0m\n\u001b[1;32m      1\u001b[0m \u001b[38;5;66;03m# Load PDF document\u001b[39;00m\n\u001b[1;32m      2\u001b[0m pdf_path \u001b[38;5;241m=\u001b[39m \u001b[38;5;124m'\u001b[39m\u001b[38;5;124mdata/LILRB2:PirB mediates macrophage recruitment in fibrogenesis of nonalcoholic steatohepatitis.pdf\u001b[39m\u001b[38;5;124m'\u001b[39m\n\u001b[0;32m----> 3\u001b[0m metadata \u001b[38;5;241m=\u001b[39m \u001b[43mextract_metadata\u001b[49m\u001b[43m(\u001b[49m\u001b[43mpdf_path\u001b[49m\u001b[43m)\u001b[49m\n\u001b[1;32m      5\u001b[0m \u001b[38;5;66;03m# Configure embeddings\u001b[39;00m\n\u001b[1;32m      6\u001b[0m embeddings \u001b[38;5;241m=\u001b[39m HuggingFaceEmbeddings(model_name\u001b[38;5;241m=\u001b[39m\u001b[38;5;124m\"\u001b[39m\u001b[38;5;124mBAAI/bge-base-en-v1.5\u001b[39m\u001b[38;5;124m\"\u001b[39m)\n",
      "Cell \u001b[0;32mIn[8], line 5\u001b[0m, in \u001b[0;36mextract_metadata\u001b[0;34m(pdf_path)\u001b[0m\n\u001b[1;32m      3\u001b[0m loader \u001b[38;5;241m=\u001b[39m PyPDFLoader(file_path\u001b[38;5;241m=\u001b[39mpdf_path)\n\u001b[1;32m      4\u001b[0m doc \u001b[38;5;241m=\u001b[39m loader\u001b[38;5;241m.\u001b[39mload()\n\u001b[0;32m----> 5\u001b[0m metadata \u001b[38;5;241m=\u001b[39m \u001b[43mdoc\u001b[49m\u001b[38;5;241;43m.\u001b[39;49m\u001b[43mmetadata\u001b[49m\n\u001b[1;32m      6\u001b[0m \u001b[38;5;28;01mreturn\u001b[39;00m metadata\n",
      "\u001b[0;31mAttributeError\u001b[0m: 'list' object has no attribute 'metadata'"
     ]
    }
   ],
   "source": [
    "# Load PDF document\n",
    "pdf_path = 'data/LILRB2:PirB mediates macrophage recruitment in fibrogenesis of nonalcoholic steatohepatitis.pdf'\n",
    "metadata = extract_metadata(pdf_path)\n",
    "\n",
    "# Configure embeddings\n",
    "embeddings = HuggingFaceEmbeddings(model_name=\"BAAI/bge-base-en-v1.5\")\n",
    "\n",
    "# Split documents with metadata\n",
    "text_splitter = RecursiveCharacterTextSplitter(chunk_size=1000, chunk_overlap=100, separators=[\"\\n\\n\", \"\\n\", \" \", \"\"])\n",
    "documents = text_splitter.split_documents(documents=doc)\n",
    "documents_with_metadata = split_documents_with_metadata(documents, format_metadata(metadata))\n",
    "\n",
    "# Create and save vector store\n",
    "vectorstore = FAISS.from_documents(documents_with_metadata, embeddings)\n",
    "vectorstore.save_local(\"vectors_2\")"
   ]
  }
 ],
 "metadata": {
  "kernelspec": {
   "display_name": "rag_benchsci",
   "language": "python",
   "name": "python3"
  },
  "language_info": {
   "codemirror_mode": {
    "name": "ipython",
    "version": 3
   },
   "file_extension": ".py",
   "mimetype": "text/x-python",
   "name": "python",
   "nbconvert_exporter": "python",
   "pygments_lexer": "ipython3",
   "version": "3.12.2"
  }
 },
 "nbformat": 4,
 "nbformat_minor": 2
}
