{
 "cells": [
  {
   "cell_type": "code",
   "execution_count": 46,
   "metadata": {},
   "outputs": [],
   "source": [
    "# create embeddings for the data (pdf and html files) and store them in local"
   ]
  },
  {
   "cell_type": "code",
   "execution_count": 47,
   "metadata": {},
   "outputs": [],
   "source": [
    "# import necessary packages\n",
    "import os\n",
    "from langchain.document_loaders import PyPDFLoader\n",
    "from langchain.vectorstores import FAISS\n",
    "from langchain_community.embeddings import HuggingFaceEmbeddings\n",
    "from langchain.text_splitter import RecursiveCharacterTextSplitter\n",
    "from langchain_community.document_loaders import UnstructuredHTMLLoader\n",
    "from langchain_community.document_loaders import BSHTMLLoader\n",
    "import sys\n",
    "sys.path.append('src/')"
   ]
  },
  {
   "cell_type": "code",
   "execution_count": 48,
   "metadata": {},
   "outputs": [],
   "source": [
    "#import config an utils as the configuration file of different resources in the processing\n",
    "import config"
   ]
  },
  {
   "cell_type": "code",
   "execution_count": 49,
   "metadata": {},
   "outputs": [],
   "source": [
    "# load the embeddings \n",
    "embeddings = HuggingFaceEmbeddings(model_name=\"BAAI/bge-base-en-v1.5\",\n",
    "                                   model_kwargs = {'device':'cuda:2'},)"
   ]
  },
  {
   "cell_type": "code",
   "execution_count": 50,
   "metadata": {},
   "outputs": [],
   "source": [
    "# create the text splitter that you want to use\n",
    "text_splitter = RecursiveCharacterTextSplitter(chunk_size=1000, \n",
    "                                               chunk_overlap= 100, \n",
    "                                               separators=[\"\\n\\n\",\"\\n\",\" \",\"\"]) "
   ]
  },
  {
   "cell_type": "code",
   "execution_count": 54,
   "metadata": {},
   "outputs": [],
   "source": [
    "# Example usage:\n",
    "directory = \"data/\"\n",
    "pdf_files_list = config.find_files(directory,'.pdf')\n",
    "html_files_list = config.find_files(directory,'.html')"
   ]
  },
  {
   "cell_type": "code",
   "execution_count": 55,
   "metadata": {},
   "outputs": [
    {
     "data": {
      "text/plain": [
       "['data/LILRB2 - an overview _ ScienceDirect Topics.html',\n",
       " 'data/NASH Overview_ Causes, Symptoms, Diagnosis, and Treatment _ Pfizer.html']"
      ]
     },
     "execution_count": 55,
     "metadata": {},
     "output_type": "execute_result"
    }
   ],
   "source": [
    "html_files_list"
   ]
  },
  {
   "cell_type": "code",
   "execution_count": 56,
   "metadata": {},
   "outputs": [],
   "source": [
    "# pdf splittings\n",
    "\n",
    "TEXT_pdf = config.pdf_chunks(pdf_files_list,text_splitter)"
   ]
  },
  {
   "cell_type": "code",
   "execution_count": 57,
   "metadata": {},
   "outputs": [],
   "source": [
    "# html splittings\n",
    "TEXT_html = config.html_chunks(html_files_list)"
   ]
  },
  {
   "cell_type": "code",
   "execution_count": 58,
   "metadata": {},
   "outputs": [
    {
     "data": {
      "text/plain": [
       "Document(page_content=\"\\n\\n\\n\\n\\n\\n\\n\\n\\n\\n\\n\\n\\n\\n\\n\\n\\n\\n\\n\\n\\n\\n\\n\\n\\n\\n\\n\\n\\nNASH Overview: Causes, Symptoms, Diagnosis, and Treatment | Pfizer\\n\\n\\n\\n\\n\\n\\n\\n\\n\\n\\n\\n\\n\\n          Sorry, you need to enable JavaScript to visit this website.\\n        \\n\\n\\n\\n      Skip to main content\\n    \\nScienceClinical TrialsGuide to Clinical Trials\\n              Your participation makes a difference\\n\\n          Clinical Trials in Children\\n              Designed to improve kids' health\\n\\n          Data and Results\\n              Sharing our Results\\n\\n          Integrity and Transparency\\n              Building Trust\\n\\n          Diversity\\n              Equity and Representation\\n\\n          Plain Language Study Results \\n              Trial Result Summaries\\n\\n          Expanded Access & Compassionate Use\\n              Possible Treatment Options\\n\\n          Find a TrialAreas of FocusRare Disease\\n              Smaller populations but big impact\\n\\n          Internal Medicine\\n              Extending lifespans worldwide\\n\\n          Inflammation & Immunology\\n              Treatment at the molecular level\\n\\n          Vaccines\\n              Preventing the spread of infections\\n\\n          Oncology\\n              The science of optimism\\n\\n          Anti Infectives\\n              Combatting an evolving risk\\n\\n          Areas of Innovation Gene Therapy\\n              Breakthroughs become treatments\\n\\n          Medicinal Sciences\\n              The next generation of science\\n\\n          Precision Medicine\\n              Developing tailored medicines\\n\\n          Maternal Immunization\\n              Protecting newborns at the start\\n\\n          mRNA Technology\\n              Unleashing the next wave of scientific innovations\\n\\n          Diseases & ConditionsCoronavirus ResourcesProduct PipelineResearch SitesProductsHow Drugs are MadeBranded vs. Generic\\n              Learn the difference\\n\\n          Biologics & Biosimilars\\n              Cures found in nature\\n\\n          Commitment to Quality\\n              Maintaining the highest standards\\n\\n          Global Supply\\n              Strategic manufacturing locations\\n\\n          Manufacturing Sites\\n              Where medicine is made in the U.S.\\n\\n          Medicine SafetyHealth Literacy\\n              Learning to be well\\n\\n          Treatment Choices\\n              Learning about treatment decisions\\n\\n          Partnering With Patients\\n              Helping others by reporting side effects\\n\\n          Tips for Patients\\n              Preventing medication errors\\n\\n          Reporting Adverse EventsCounterfeiting\\n              Preventing medication errors\\n\\n          Product SafetyProduct ListProduct ContactsPfizerPro for ProfessionalsPatient Assistance ProgramsDistributorsPfizer DistributorsStoriesArticlesAnnouncementsBehind the Science FeaturesPodcastseBooksNewsroomPress ReleasesMedia Asset LibraryUpdates and StatementsPartnering NewsMedia ContactsAboutPeopleExecutives\\n              Our senior-most leadership\\n\\n          Board Members\\n              The people steering our company\\n\\n          Scientists\\n              Our experts making discoveries\\n\\n          Patient Stories\\n              Our patients\\n\\n          Colleague Stories\\n              Our colleagues\\n\\n          ResponsibilityEthics & Compliance\\n              Each of us is responsible\\n\\n          Responsible Business\\n              Breakthroughs that change patients’ lives\\n\\n          Patient Advocacy & Engagement\\n              Putting Patients First\\n\\n          Global Impact\\n              Meeting urgent needs worldwide\\n\\n          Diversity, Equity, and Inclusion\\n              Everyone has something to offer\\n\\n          Environmental Sustainability\\n              Our responsiblity to the environment\\n\\n          Human Rights\\n              Furthering dignity and worth\\n\\n          Health & SafetyIntellectual Property\\n              The benefits of fair competition\\n\\n          EHS GovernanceMisinformationPrograms & PoliciesGrants\\n              Support for independent research\\n\\n          Political Partnership\\n              Supporting like-minded organizations\\n\\n          Working with Healthcare Professionals\\n              Collaboration to improve lives\\n\\n          Prescription Value & Pricing\\n              How to lower patient costs\\n\\n          Privacy Principles\\n              Commitment to personal data privacy\\n\\n          Ready for Cures\\n              Improving Access to Medicines\\n\\n          Transparency in Grants\\n              Committed to Disclosure\\n\\n          InvestorsInvestors Overview\\n              Information for stockholders\\n\\n          Why Invest\\n              Why to join us in our mission\\n\\n          Events & Presentations\\n              Calendar of upcoming events\\n\\n          Financial Reports\\n              Quarterly reports and more\\n\\n          Investor News\\n              Announcements about our performance\\n\\n          Stock Information\\n              Charts and data\\n\\n          Shareholder Services\\n              Information on stock transactions\\n\\n          Corporate GovernanceCorporate Governance Overview\\n              Gaining insight into our performance\\n\\n          Board Committees & Charters\\n              Defining the corporate structure\\n\\n          The Pfizer Board Policies\\n              Ensuring ethical leadership\\n\\n          Corporate Governance FAQs\\n              Learn more about our approach\\n\\n          Contact Our Directors\\n              Email any of our Directors\\n\\n          PurposeHistoryCareersPartnersResearch and Business Development PartnershipsVenture InvestmentsBusiness to BusinessPfizer CentreOnePfizer IgniteSubmit Your OpportunitiesInvestorsCareersMediaPartnersContact UsCareersInvestorsContact Us\\n              Hamburger\\n            \\n\\n\\n\\n\\n\\nChanged\\n\\n\\n\\nChanged\\n\\n\\n\\nHow can we help you?\\n\\n\\n\\n\\n\\n\\n\\n\\n\\n\\n\\n4881 search results forSuggestions within Pfizer.com\\n\\n\\n\\n\\n\\n\\n\\nfilter\\n\\nselect all \\n | \\nreset\\n\\n\\n\\n Type \\ni\\n\\n\\n\\n\\n\\nAnnouncement\\n\\n\\n\\nArticle\\n\\n\\n\\nPage\\n\\n\\n\\nPeople Profiles\\n\\n\\n\\nPodcast\\n\\n\\n\\nPress Release\\n\\n\\n\\nProduct\\n\\n\\n\\n\\n Date Range\\ni\\n\\n\\n\\n\\n\\n\\nNo result found. \\n\\n\\n\\n\\n\\n\\n                    Header close\\n                  \\n                    Header close\\n                  NASHWhat is NASH? What causes this severe form of NAFLD? And what should you do if you're diagnosed with fatty liver disease?\\n            Home\\n          \\n            Science\\n          \\n            Diseases & Conditions\\n          \\n            NASH\\n          Go To SectionCauses & Risk FactorsSymptomsComplicationsDiagnosis & TreatmentGlobal ImpactFAQsLearn More\\n            Home\\n          \\n            Science\\n          \\n            Diseases & Conditions\\n          \\n            NASH\\n          What Is NASH?\\xa0Nonalcoholic steatohepatitis, or NASH, is the most severe form of nonalcoholic fatty liver disease (NAFLD), a condition in which the liver builds up excessive fat deposits.1The liver is part of the digestive system. The organ helps break down food, store energy, filter waste products, and remove toxins.1 Even healthy livers contain some fat, but if your liver has more than 5% \\xa0fat, you may have some form of NAFLD. If that fat is accompanied by inflammation, it is called NASH.1NAFLD can be mild and symptomless, but if it progresses to NASH, it can sometimes cause people to experience liver damage similar to that caused by alcohol abuse, even if they do not drink.1The body can repair minor liver damage, but if the effects are severe or long-term, scar tissue eventually replaces liver tissue (a process known as fibrosis). That can lead to cirrhosis—a life-threatening condition in which irreversible damage prevents the liver from working properly.1Potential new diagnostic tools and treatments that are being evaluated in NASH may offer new hope for people with this serious liver disease.\\xa0Prevalence of NASH\\xa0NAFLD is the most common chronic liver disease in the U.S., affecting roughly 25% of adults.2 Most people with NAFLD have a fatty liver without inflammation. However, 20% of people with NAFLD develop NASH—liver inflammation that can seriously harm the organ.2 It is estimated that over 115 million adults around the world are impacted by NASH.3\\xa0 \\xa0 \\xa0\\xa0NASH is most common among people who are obese and/or have Type 2 diabetes. As these conditions become more prevalent, so does NASH.4,5Causes and Risk FactorsWhat Causes NASH?Scientists don’t fully understand what causes NAFLD or why some people develop NASH and others don’t. But this is an area where researchers are learning more every year.4,5Genetics, metabolic changes, and changes to the microbiome (the microorganisms that are part of a healthy gut) might contribute to NASH.5,6,7Some other causes under study include6,7:An immune system reaction to excessive fatty liver tissueThe release of toxic inflammatory chemicals (cytokines) by liver cells or fat cellsSelf-destruction (apoptosis) of liver cellsOxidative stress, the effect of unstable molecules called free radicalsNASH and GeneticsGenetics seem to contribute to NAFLD and NASH. Research has identified gene changes that might play a role, including a certain variation in the PNPLA3 gene.8 This gene gives cells instructions for making adiponutrin, a protein found in liver cells and fat cells.9 Scientists believe that a particular change in the PNPLA3 gene could cause increased fat production and decreased breakdown of fats in the liver, which may contribute to development of NASH.8Ongoing research could shed further light on the role of PNPLA3 and other genes in NASH. Researchers have already confirmed that variations in PNPLA3 can be inherited.10 Genetically inherited variations of the HSD17B13 \\xa0protein also may play a role in the development of NAFLD and NASH, as well as severity.8,11 Emerging research is attempting to clarify how lifestyle factors such as diet and exercise may affect how the body expresses these genetic variations.12NASH Risk FactorsResearchers understand NAFLD and NASH risk factors more than their causes. The most common risk factors include4:  Obesity\\nUp to 75% of people who are overweight and 90% of people with extreme obesity have NAFLD;13 however, it also occurs in patients who are at a healthy weight.  Type 2 diabetes or prediabetes\\nBetween one-third and two-thirds of people with Type 2 diabetes have NAFLD.  Abnormal fat levels in the blood\\nThis includes high levels of triglycerides or LDL cholesterol, as well as low levels of HDL cholesterol.  Age\\nNAFLD, including NASH, is more common with age, but children can have NAFLD.  Race\\nNAFLD is most common in Hispanic people, followed by non-Hispanic whites and Asian Americans. It is less common in Black people.  Menopause\\nPost-menopausal people may be at higher risk of developing NASH.  Obstructive sleep apnea\\nPeople with sleep apnea face higher risk.Additional NASH risk factors such as rapid, excessive weight loss and polycystic ovary syndrome (an imbalance of hormones caused by the ovaries) have been identified. However, these risk factors are not considered the most common or well-studied.4NASH in ChildrenNAFLD is the most common cause of chronic liver disease in children in the U.S. As childhood obesity becomes more widespread, so does NAFLD \\xa0in children. An estimated 10% of American children (roughly 6 million kids ages 2 to 19) have NAFLD, which can develop into NASH.4NAFLD is more common in older children and Hispanic and Asian-American children. Compared with people with adult-onset NAFLD, children with NAFLD are more likely to develop NASH or related complications as adults.4Children's risk factors for NASH include obesity, Type 2 diabetes, high blood pressure, and abnormal cholesterol levels. Genetics might also increase risk.4Preventing NASHUnlike inherent NASH risk factors such as genetics, age, and race, some can be reduced through healthy diet and lifestyle choices that can help protect the liver. These include5,14:  Maintain a healthy weight\\nThis can help prevent NAFLD or lessen its effects. Losing weight can cause NASH to reverse to simple fatty liver, while regaining weight can reignite NASH.  Eat healthy fats\\nLimiting fat intake and portion sizes can help people avoid obesity and protect both their liver and heart. Eating healthy (unsaturated) fats, especially the ones found in fish, nuts, and fruit called omega-3 fatty acids, instead of less healthy fats can improve health and help to control weight. This diet also may lower heart disease risk in people with NAFLD.  Eat more low-glycemic index foods\\nFruits, vegetables, and whole grains affect blood glucose levels less than high-glycemic index foods such as white rice, white bre ad, and potatoes.  Avoid fructose\\nA simple sugar found in soft drinks, sports drinks, juice, and many processed foods, fructose rapidly increases blood glucose level. Diets high in fructose increase the odds of developing NASH.  Minimize alcohol intake\\nHeavy drinking can damage the liver even more in people who already have NAFLD.NASH SymptomsNAFLD, including NASH, is usually a silent disease, meaning it has few, if any, symptoms. People with NASH may feel tired or feel discomfort in the upper right side of the abdomen, but most people don't notice symptoms until they develop NASH cirrhosis.1,5\\xa0How Fast Does NASH Progress?The NASH progression to cirrhosis starts when inflamed liver tissue turns into scar tissue (fibrosis), which can prevent the liver from functioning properly. Of those who have NASH, one-third or more go on to develop cirrhosis , which also increases the risk of developing liver cancer.1Most people have NAFLD for years before developing cirrhosis or other complications of NASH.2Symptoms of NASH Liver DiseasePeople with cirrhosis (severe fibrosis or scarring) of the liver related to NASH may experience:15Intense itchingAbdominal swellingEasy bruising and bleedingJaundice (yellowing of the skin and eyes)Spider-like blood vessels beneath the skin's surfaceBehavior changes, confusion, and slurred speech.NASH ComplicationsNASH increases the risk of cirrhosis-related liver failure and liver cancer, which could require a liver transplant.13 The average life expectancy for someone with cirrhosis of advanced liver disease is about nine to 12 years.16 However, NAFLD greatly increases the risk of cardiovascular disease and decreases life expectancy in adults.17Diagnosis and TreatmentHow NASH Is DiagnosedIf you have increased liver enzymes in blood tests or related conditions such as Type 2 diabetes or obesity, your doctor may use several diagnostic methods to determine whether you have NASH. These could include18:  Medical history review \\nTo determine what medications you take, your alcohol intake, your diet and activity levels, and whether you have other health conditions that increase your risk for NAFLD.  Physical exam \\nTo check for signs of jaundice, enlarged liver, and other NASH symptoms.  Blood tests\\nTo examine liver function, liver enzymes, and the presence of viral infections and rare genetic conditions that can cause a fatty liver.  Imaging tests\\nSuch as ultrasound or magnetic resonance elastography (MRE), a type of scan that generates a visual map of the liver, measuring its stiffness.19  Liver biopsy\\nTo collect a tissue sample for lab testing. If your liver biopsy reveals both fat and inflammation in the tissue sample, you may be diagnosed with NASH.18NASH TreatmentThere are no medications approved to treat NAFLD, including NASH, but researchers are studying different potential t herapies for NASH.20 The National Institutes of Health urges people with fatty livers to consult a doctor before taking any dietary supplements or alternative treatments, as some herbal remedies may cause or worsen liver damage.20For people who are overweight, weight loss, which in some cases can be achieved through a healthy diet and regular exercise, may help. Losing at least 3% to 5% of total weight can decrease fat deposits in the liver, while shedding 7% to 10% can reduce liver inflammation and scar tissue.20\\xa0 \\xa0If you have NASH and cirrhosis, your doctor may recommend medication, minor medical procedures, or liver transplant surgery to treat cirrhosis complications.20Global Impact of NASHNAFLD is becoming more common around the world, in both developing and developed countries. By 2030, the number of people in China with NASH is expected to reach 48.26 million. In Europe, Spain had 1.8 million cases in 2016, with the number expected to increase 49% by 2030. German cases of NASH stood at 3.33 million in 2016 and are projected to climb 43% by 2030. And, researchers anticipate 27 million cases of NASH in the U.S. by 2030.21Not only does an increase in NASH cases negatively impact lives, but there can also be a steep economic impact for patients and their families, payers, and governments. In the U.S., the annual direct cost of treating NAFLD reaches $103 billion, while four European countries—Germany, France, Italy, and the United Kingdom—spend about €35 billion a year.22Frequently Asked Questions About NASH  Is NASH reversible?\\nThe effects of NASH may be reversible with weight loss and healthy lifestyle changes, but if the damage is severe or long-term, it may be permanent.20  What does NASH stand for?\\nNASH stands for nonalcoholic steatohepatitis, which is a fatty, inflamed liver not caused by heavy drinking.1  Is NASH liver disease hereditary?\\nCertain genes may be associated with NAFLD or NASH in some cases, but the role of genes and heredity links are not fully understood.8,9,10,11,12  What is the difference between NAFLD and NASH?\\nNASH is a form of NAFLD. NAFLD means you have a fatty liver, while NASH means you have a fatty liver that is also inflamed.1Learn More About NASHFind a Pfizer clinical trial for NASH at PfizerClinicalTrials.com.Explore NASH clinical trials at ClinicalTrials.gov.Area of Focus: Inflammation & ImmunologyNASH is a focus of Pfizer’s Inflammation & Immunology Therapeutic Area. Visit the Inflammation & Immunology Page.Internal Medicine Areas of Interest  References\\nNon-alcoholic fatty liver disease. MedlinePlus. https://medlineplus.gov/genetics/condition/non-alcoholic-fatty-liver-disease/. Accessed February 22, 2022.NASH definition & prevalence. American Liver Foundation. https://liverfoundation.org/for-patients/about-the-liver/diseases-of-the-liver/nonalcoholic-steatohepatitis-information-center/nash-definition-prevalence/. Last updated July 2, 2021. Accessed February 22, 2022.Tesfay M, Goldkamp WJ, Neuschwander-Tetri BA. NASH: The Emerging Most Common Form of Chronic Liver Disease. Mo Med. 2018 May-Jun;115(3):225-229. PMID: 30228727; PMCID: PMC6140162. 229.NASH causes & risk factors. American Liver Foundation. https://liverfoundation.org/for-patients/about-the-liver/diseases-of-the-liver/nonalcoholic-steatohepatitis-information-center/nash-causes-risk-factors/. Last updated July 2, 2021. Accessed February 22, 2022.Symptoms & causes of NAFLD & NASH. National Institutes of Health. https://www.niddk.nih.gov/health-information/liver-disease/nafld-nash/symptoms-causes. Last updated April 2021. Accessed February 22, 2022.Syn WK, Choi SS, Diehl AM. Apoptosis and cytokines in non-alcoholic steatohepatitis. Clin Liver Dis. 2009;13(4):565-580.Jadhav K, Cohen TS. Can you trust your gut? Implicating a disrupted intestinal microbiome in the progression of NAFLD/NASH. Front Endocrinol (Lausanne). 2020;11:592157.Zhang HB, Su W, Xu H, Zhang XY, Guan YF. HSD17B13: A potential therapeutic target for NAFLD. Front Mol Biosci. 2022;8:824776. doi:10.3389/fmolb.2021.824776.PNPLA3 gene. MedlinePlus. https://medlineplus.gov/genetics/gene/pnpla3/. Last updated November 1, 2016. Accessed May 10, 2022.Romeo S, Kozlitina J, Xing C, et al. Genetic variation in PNPLA3 confers susceptibility to nonalcoholic fatty liver disease. Nat Genet. 2008;40(12):1461-1465.Stickel F, Lutz P, Buch S, et al. Genetic variation in hsd17b13 reduces the risk of developing cirrhosis and hepatocellular carcinoma in alcohol misusers. Hepatology. 2020;72(1):88-102.Sodum N, Kumar G, Bojja SL, Kumar N, Rao CM. Epigenetics in NAFLD/NASH: targets and therapy. Pharmacological Research. 2021;167:105484.Definitions & facts of NAFLD & NASH. National Institutes of Health. https://www.niddk.nih.gov/health-information/liver-disease/nafld-nash/definition-facts. Last updated April 2021. Accessed February 22, 2022.Eating, diet & nutrition for NAFLD & NASH. National Institutes of Health. https://www.niddk.nih.gov/health-information/liver-disease/nafld-nash/eating-diet-nutrition. Last updated April 2021. Accessed February 22, 2022.NASH symptoms. American Liver Foundation. https://liverfoundation.org/for-patients/about-the-liver/diseases-of-the-liver/nonalcoholic-steatohepatitis-information-center/nash-symptoms/. Last updated January 21, 2022. Accessed February 22, 2022.Evaluation and prognosis of persons with cirrhosis. Hepatitis C Online. https://www.hepatitisc.uw.edu/go/evaluation-staging-monitoring/evaluation-prognosis-cirrhosis/core-concept/all. Last updated June 1, 2021. Accessed February 22, 2022.NAFLD doubles risk of CVD and cuts up to 6 years off life expectancy. \\xa0https://www.natap.org/2021/EASL/EASL_33.htm. Presented at: The International Liver Congress, European Association for the Study of the Liver; June 23-26, 2021. Accessed February 22, 2022.NASH diagnosis. American Liver Foundation. https://liverfoundation.org/for-patients/about-the-liver/diseases-of-the-liver/nonalcoholic-steatohepatitis-information-center/nash-diagnosis/. Last updated July 2, 2021. Accessed February 22, 2022.Magnetic resonance elastography. Mayo Clinic. https://www.mayoclinic.org/tests-procedures/magnetic-resonance-elastography/about/pac-20385177. Accessed July 8, 2022.Treatment for NAFLD & NASH. National Institutes of Health. https://www.niddk.nih.gov/health-information/liver-disease/nafld-nash/treatment. Last updated April 2021. Accessed February 22, 2022.Estes C, Anstee QM, Arias-Loste MT, et al. Modeling NAFLD disease burden in China, France, Germany, Italy, Japan, Spain, United Kingdom, and United States for the period 2016–2030. Journal of Hepatology. 2018;69(4):896-904.Younossi ZM, Blissett D, Blissett R, et al. The economic and clinical burden of nonalcoholic fatty liver disease in the United States and Europe. Hepatology. 2016;64(5):1577-1586.The information contained on this page is provided for your general information only. It is not intended as a substitute for seeking medical advice from a healthcare provider. Pfizer is not in the business of providing medical advice and does not engage in the practice of medicine. Pfizer under no circumstances recommends particular treatments for specific individuals and in all cases recommends consulting a physician or healthcare center before pursuing any course of treatment.  Related Articles\\n\\n              \\n  Riding the Wave to Non-Invasive NASH Diagnosis\\n\\n              As early as ancient Greece, doctors used a method called palpation to diagnose illness, pressing their hands on a patient’s abdomen to assess the firmness of diseased tissues and organs. This ancient practice is now getting a 21st-century upgrade. Scientists are working to develop advanced...\\n              \\n   Could Diversity in Clinical Trials Be the Key to Understanding Liver Disease?\\n\\n              In a New Yorker article about how evolutionary psychology findings are usually based on surveys of undergraduates, Anthony Gottlieb wrote, “American college kids, whatever their charms, are a laughable proxy for\\xa0Homo sapiens.”\\xa0 Biomedical research can suffer from a similar bias:...InvestorsCareersMediaPartnersGrant SeekersHealthcare ProfessionalsBusiness to BusinessMerchandisePrivacy StatementTerms of UseContact Us\\n © 2024 Pfizer Inc. All rights reserved\\n\\n\\n\\nThis information—including product information—is intended only for residents of the United States.\\nThe products discussed herein may have different labeling in different countries.\\n\\nTwitterFacebookLinked InInstagramYoutube\\n \\n\\n\\n\\n\\n\\n\\n\\n\\n\\n\\n\", metadata={'source': 'data/NASH Overview_ Causes, Symptoms, Diagnosis, and Treatment _ Pfizer.html', 'title': 'NASH Overview: Causes, Symptoms, Diagnosis, and Treatment | Pfizer'})"
      ]
     },
     "execution_count": 58,
     "metadata": {},
     "output_type": "execute_result"
    }
   ],
   "source": [
    "TEXT_html[1]"
   ]
  },
  {
   "cell_type": "code",
   "execution_count": 59,
   "metadata": {},
   "outputs": [
    {
     "name": "stdout",
     "output_type": "stream",
     "text": [
      "Embeddings successfully saved in vector Database and saved locally\n"
     ]
    }
   ],
   "source": [
    "# all Splittings\n",
    "\n",
    "ALL_TEXT  = TEXT_pdf + TEXT_html\n",
    "\n",
    "vectorstore = FAISS.from_documents(ALL_TEXT, embeddings)\n",
    "vectorstore.save_local(\"vector_db\")\n",
    "print(\"Embeddings successfully saved in vector Database and saved locally\")\n"
   ]
  }
 ],
 "metadata": {
  "kernelspec": {
   "display_name": "rag_benchsci",
   "language": "python",
   "name": "python3"
  },
  "language_info": {
   "codemirror_mode": {
    "name": "ipython",
    "version": 3
   },
   "file_extension": ".py",
   "mimetype": "text/x-python",
   "name": "python",
   "nbconvert_exporter": "python",
   "pygments_lexer": "ipython3",
   "version": "3.12.2"
  }
 },
 "nbformat": 4,
 "nbformat_minor": 2
}
